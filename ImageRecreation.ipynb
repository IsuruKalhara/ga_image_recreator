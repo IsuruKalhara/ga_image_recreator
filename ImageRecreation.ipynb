{
 "cells": [
  {
   "cell_type": "code",
   "execution_count": 105,
   "metadata": {},
   "outputs": [],
   "source": [
    "import cv2\n",
    "import numpy as np\n",
    "import matplotlib.pyplot as plt\n",
    "import random\n",
    "import sys\n",
    "\n",
    "########################\n",
    "USE_OR = False\n",
    "USE_NOR = False\n",
    "USE_XOR = False\n",
    "USE_XNOR = False\n",
    "USE_DISCRETE = False\n",
    "USE_RANDOM = True"
   ]
  },
  {
   "cell_type": "code",
   "execution_count": 106,
   "metadata": {},
   "outputs": [],
   "source": [
    "class ImageObject:\n",
    "    \n",
    "    def __init__(self, size_h, size_v, zero_p):\n",
    "        self.size_h = size_h\n",
    "        self.size_v = size_v\n",
    "        self.img = (np.random.random((size_h,size_v)) > (zero_p/100.0)).astype(int)\n",
    "        self.error = 0\n",
    "        \n",
    "    def show(self):\n",
    "        plt.imshow(self.img,cmap='Greys_r')\n",
    "        \n",
    "    def set_error(self,cvimage):\n",
    "        self.error = sum(sum(abs(cvimage-self.img)))\n",
    "        \n",
    "    def get_error(self):\n",
    "        return self.error"
   ]
  },
  {
   "cell_type": "code",
   "execution_count": 107,
   "metadata": {},
   "outputs": [],
   "source": [
    "def create_new_population(size, size_h, size_v, zero_p, cvimage):\n",
    "    population = []\n",
    "    for i in range(size):\n",
    "        img = ImageObject(size_h,size_v,zero_p)\n",
    "        if(not already_in(img,population)):\n",
    "            img.set_error(cvimage)\n",
    "            population.append(img)\n",
    "    return population"
   ]
  },
  {
   "cell_type": "code",
   "execution_count": 108,
   "metadata": {},
   "outputs": [],
   "source": [
    "def crossover(img1, img2):\n",
    "    \n",
    "    randomSelection = 0 \n",
    "    new_img = ImageObject(img1.img.shape[0],img1.img.shape[1],100)\n",
    "    \n",
    "    #Random\n",
    "    if USE_RANDOM:\n",
    "        randomSelection = random.randint(1,50)\n",
    "        \n",
    "    #OR\n",
    "    if USE_OR or (randomSelection >= 1 and randomSelection < 10) :\n",
    "        new_img.img = cv2.bitwise_or(img2.img, img1.img, mask = None)\n",
    "        #print('OR')\n",
    "    \n",
    "    #NOR\n",
    "    if USE_NOR or (randomSelection >= 10 and randomSelection < 20) :\n",
    "        new_img.img = cv2.bitwise_not(cv2.bitwise_or(img2.img, img1.img, mask = None),None)\n",
    "        #print('NOR')\n",
    "\n",
    "    #XOR\n",
    "    if USE_XOR or (randomSelection >= 20 and randomSelection < 30) :\n",
    "        new_img.img = cv2.bitwise_xor(img2.img, img1.img, mask = None)\n",
    "        #print('XOR')\n",
    "        \n",
    "    #XNOR\n",
    "    if USE_XNOR or (randomSelection >= 30 and randomSelection < 40) :\n",
    "        new_img.img = cv2.bitwise_not(cv2.bitwise_xor(img2.img, img1.img, mask = None),None)\n",
    "        #print('XNOR')\n",
    "        \n",
    "    #DISCRETE\n",
    "    if USE_DISCRETE or (randomSelection >= 40 and randomSelection < 50) :\n",
    "        #print('Discrete')\n",
    "        for i in range(img1.img.shape[0]):\n",
    "            for j in range(img1.img.shape[1]):\n",
    "                new_img.img[i][j] = img1.img[i][j] if random.randint (1,100) > 0.5 else img2.img[i][j]\n",
    "\n",
    "    return new_img\n",
    "            "
   ]
  },
  {
   "cell_type": "code",
   "execution_count": 109,
   "metadata": {},
   "outputs": [],
   "source": [
    "def mutation(img,mut_p):\n",
    "    height = img.img.shape[1]\n",
    "    width = img.img.shape[0]\n",
    "    new_img = ImageObject(width,height,100)\n",
    "    new_img.img = np.copy(img.img)\n",
    "    for i in range(int((height*width*mut_p)/100)):\n",
    "        randIndex_h = random.randint(0,width-1)\n",
    "        randIndex_v = random.randint(0,height-1)\n",
    "        new_img.img[randIndex_h][randIndex_v] = not new_img.img[randIndex_h][randIndex_v]\n",
    "    return new_img\n",
    "        "
   ]
  },
  {
   "cell_type": "code",
   "execution_count": 110,
   "metadata": {},
   "outputs": [],
   "source": [
    "def already_in(new_img, population):\n",
    "    return next((True for elem in population if np.array_equal(elem.img, new_img.img)), False)\n"
   ]
  },
  {
   "cell_type": "code",
   "execution_count": 111,
   "metadata": {},
   "outputs": [],
   "source": [
    "def select_candidates(population, size):\n",
    "    population.sort(key = lambda x: x.error, reverse=False)\n",
    "    return population[0:size]"
   ]
  },
  {
   "cell_type": "code",
   "execution_count": 112,
   "metadata": {},
   "outputs": [],
   "source": [
    "def next_generation(population, size, mutation_p, cvimage):\n",
    "    new_population = population\n",
    "    while(len(new_population)<size):\n",
    "        if (random.randint (1,100) > mutation_p):\n",
    "            # do crossover \n",
    "            img1 = random.choice(new_population)\n",
    "            img2 = random.choice(new_population)\n",
    "            new_img = crossover(img1, img2)\n",
    "            if(not already_in(new_img,new_population)):\n",
    "                new_img.set_error(cvimage)\n",
    "                new_population.append(new_img)\n",
    "        \n",
    "        else:\n",
    "            # do mutation\n",
    "            img = random.choice(new_population)\n",
    "            new_img = mutation(img,10)\n",
    "            if(not already_in(new_img,new_population)):\n",
    "                new_img.set_error(cvimage)\n",
    "                new_population.append(new_img)\n",
    "            \n",
    "    return new_population"
   ]
  },
  {
   "cell_type": "code",
   "execution_count": 115,
   "metadata": {},
   "outputs": [],
   "source": [
    "def controller():\n",
    "    \n",
    "    img_path = 'test2.png'\n",
    "    orig_img = cv2.imread(img_path, 0)\n",
    "    orig_img = orig_img/255.0\n",
    "    orig_img = orig_img.astype(int)\n",
    "    size_h = orig_img.shape[0]\n",
    "    size_v = orig_img.shape[1]\n",
    "    \n",
    "    \n",
    "    population_size = 100\n",
    "    intermidiate_size = 200\n",
    "    zero_p = 10\n",
    "    mutation_p = 10\n",
    "    no_of_generations = 10000\n",
    "    \n",
    "    fig = plt.figure()\n",
    "    plt.imshow(orig_img, cmap=\"Greys_r\" )\n",
    "        \n",
    "    population = create_new_population(population_size, size_h, size_v, zero_p, orig_img)\n",
    "\n",
    "    for i in range(no_of_generations):    \n",
    "        next_gen = next_generation(population, intermidiate_size, mutation_p, orig_img)\n",
    "        population = select_candidates(next_gen, population_size)\n",
    "        #print(i)\n",
    "        #sys.stdout.flush()\n",
    "        \n",
    "        \n",
    "    for i in range(10):\n",
    "        print(population[i].error)\n",
    "        fig = plt.figure()\n",
    "        population[i].show()\n",
    "    print(np.array_equal(population[0].img,population[1].img))"
   ]
  },
  {
   "cell_type": "code",
   "execution_count": 116,
   "metadata": {},
   "outputs": [
    {
     "name": "stdout",
     "output_type": "stream",
     "text": [
      "136\n",
      "137\n",
      "137\n",
      "137\n",
      "137\n",
      "137\n",
      "137\n",
      "138\n",
      "138\n",
      "138\n",
      "False\n"
     ]
    },
    {
     "data": {
      "image/png": "[encoded data removed]",
      "text/plain": [
       "<Figure size 432x288 with 1 Axes>"
      ]
     },
     "metadata": {
      "needs_background": "light"
     },
     "output_type": "display_data"
    },
    {
     "data": {
      "image/png": "[encoded data removed]",
      "text/plain": [
       "<Figure size 432x288 with 1 Axes>"
      ]
     },
     "metadata": {
      "needs_background": "light"
     },
     "output_type": "display_data"
    },
    {
     "data": {
      "image/png": "[encoded data removed]",
      "text/plain": [
       "<Figure size 432x288 with 1 Axes>"
      ]
     },
     "metadata": {
      "needs_background": "light"
     },
     "output_type": "display_data"
    },
    {
     "data": {
      "image/png": "[encoded data removed]",
      "text/plain": [
       "<Figure size 432x288 with 1 Axes>"
      ]
     },
     "metadata": {
      "needs_background": "light"
     },
     "output_type": "display_data"
    },
    {
     "data": {
      "image/png": "[encoded data removed]",
      "text/plain": [
       "<Figure size 432x288 with 1 Axes>"
      ]
     },
     "metadata": {
      "needs_background": "light"
     },
     "output_type": "display_data"
    },
    {
     "data": {
      "image/png": "[encoded data removed]",
      "text/plain": [
       "<Figure size 432x288 with 1 Axes>"
      ]
     },
     "metadata": {
      "needs_background": "light"
     },
     "output_type": "display_data"
    },
    {
     "data": {
      "image/png": "[encoded data removed]",
      "text/plain": [
       "<Figure size 432x288 with 1 Axes>"
      ]
     },
     "metadata": {
      "needs_background": "light"
     },
     "output_type": "display_data"
    },
    {
     "data": {
      "image/png": "[encoded data removed]",
      "text/plain": [
       "<Figure size 432x288 with 1 Axes>"
      ]
     },
     "metadata": {
      "needs_background": "light"
     },
     "output_type": "display_data"
    },
    {
     "data": {
      "image/png": "[encoded data removed]",
      "text/plain": [
       "<Figure size 432x288 with 1 Axes>"
      ]
     },
     "metadata": {
      "needs_background": "light"
     },
     "output_type": "display_data"
    },
    {
     "data": {
      "image/png": "[encoded data removed]",
      "text/plain": [
       "<Figure size 432x288 with 1 Axes>"
      ]
     },
     "metadata": {
      "needs_background": "light"
     },
     "output_type": "display_data"
    },
    {
     "data": {
      "image/png": "[encoded data removed]",
      "text/plain": [
       "<Figure size 432x288 with 1 Axes>"
      ]
     },
     "metadata": {
      "needs_background": "light"
     },
     "output_type": "display_data"
    }
   ],
   "source": [
    "controller()"
   ]
  },
  {
   "cell_type": "code",
   "execution_count": 26,
   "metadata": {},
   "outputs": [],
   "source": [
    "a = []\n",
    "b = np.array([1,2,3,4,5])\n",
    "c = np.array([1,2,3,4,5])\n",
    "a.append(b)\n"
   ]
  },
  {
   "cell_type": "code",
   "execution_count": 74,
   "metadata": {},
   "outputs": [
    {
     "ename": "NameError",
     "evalue": "name 'population' is not defined",
     "output_type": "error",
     "traceback": [
      "\u001b[0;31m---------------------------------------------------------------------------\u001b[0m",
      "\u001b[0;31mNameError\u001b[0m                                 Traceback (most recent call last)",
      "\u001b[0;32m<ipython-input-74-ea2eeb579e3a>\u001b[0m in \u001b[0;36m<module>\u001b[0;34m\u001b[0m\n\u001b[0;32m----> 1\u001b[0;31m \u001b[0mprint\u001b[0m \u001b[0;34m(\u001b[0m\u001b[0mnp\u001b[0m\u001b[0;34m.\u001b[0m\u001b[0marray_equal\u001b[0m\u001b[0;34m(\u001b[0m\u001b[0mpopulation\u001b[0m\u001b[0;34m[\u001b[0m\u001b[0;36m0\u001b[0m\u001b[0;34m]\u001b[0m\u001b[0;34m,\u001b[0m\u001b[0mpopulation\u001b[0m\u001b[0;34m[\u001b[0m\u001b[0;36m1\u001b[0m\u001b[0;34m]\u001b[0m\u001b[0;34m)\u001b[0m\u001b[0;34m)\u001b[0m\u001b[0;34m\u001b[0m\u001b[0;34m\u001b[0m\u001b[0m\n\u001b[0m",
      "\u001b[0;31mNameError\u001b[0m: name 'population' is not defined"
     ]
    }
   ],
   "source": [
    "print (np.array_equal(population[0],population[1]))"
   ]
  }
 ],
 "metadata": {
  "kernelspec": {
   "display_name": "Python 3",
   "language": "python",
   "name": "python3"
  },
  "language_info": {
   "codemirror_mode": {
    "name": "ipython",
    "version": 3
   },
   "file_extension": ".py",
   "mimetype": "text/x-python",
   "name": "python",
   "nbconvert_exporter": "python",
   "pygments_lexer": "ipython3",
   "version": "3.6.9"
  }
 },
 "nbformat": 4,
 "nbformat_minor": 4
}
