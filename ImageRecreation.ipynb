{
 "cells": [
  {
   "cell_type": "code",
   "execution_count": 46,
   "metadata": {},
   "outputs": [
    {
     "data": {
      "image/png": "[encoded data removed]",
      "text/plain": [
       "<Figure size 432x288 with 1 Axes>"
      ]
     },
     "metadata": {
      "needs_background": "light"
     },
     "output_type": "display_data"
    }
   ],
   "source": [
    "import cv2\n",
    "import numpy as np\n",
    "import matplotlib.pyplot as plt\n",
    "import random\n",
    "\n",
    "# img_path = 'test2.png'\n",
    "# img = cv2.imread(img_path, 0)\n",
    "# img = img/255.0\n",
    "\n",
    "# plt.imshow(img, cmap='Greys_r')\n",
    "# plt.show()\n",
    "# size_h = img.shape[0]\n",
    "# size_v = img.shape[1]\n",
    "\n",
    "########################\n",
    "USE_OR = False\n",
    "USE_XOR = False\n",
    "USE_"
   ]
  },
  {
   "cell_type": "code",
   "execution_count": 47,
   "metadata": {},
   "outputs": [],
   "source": [
    "class ImageObject:\n",
    "    \n",
    "    def __init__(self, size_h, size_v, zero_p):\n",
    "        self.size_h = size_h\n",
    "        self.size_v = size_v\n",
    "        self.img = (np.random.random((size_h,size_v)) > (zero_p/100.0)).astype(int)\n",
    "        self.error = 0\n",
    "        \n",
    "    def show(self):\n",
    "        plt.imshow(self.img,cmap='Greys_r')\n",
    "        \n",
    "    def set_error(self,cvimage):\n",
    "        self.error = sum(sum(abs(cvimage-self.img)))\n",
    "        \n",
    "    def get_fitness(self):\n",
    "        return self.fitness"
   ]
  },
  {
   "cell_type": "code",
   "execution_count": 86,
   "metadata": {},
   "outputs": [],
   "source": [
    "def create_new_population(size, size_h, size_v, zero_p, cvimage):\n",
    "    population = []\n",
    "    for i in range(size):\n",
    "        img = ImageObject(size_h,size_v,zero_p)\n",
    "        img.set_error(cvimage)\n",
    "        population.append(img)\n",
    "    return population"
   ]
  },
  {
   "cell_type": "code",
   "execution_count": null,
   "metadata": {},
   "outputs": [],
   "source": [
    "def crossover(img1, img2):\n",
    "    #OR\n",
    "    #AND\n",
    "    #XOR\n",
    "    "
   ]
  },
  {
   "cell_type": "code",
   "execution_count": null,
   "metadata": {},
   "outputs": [],
   "source": [
    "def mutation(img):\n",
    "    #Random imgsize%10 bit change\n",
    "    "
   ]
  },
  {
   "cell_type": "code",
   "execution_count": null,
   "metadata": {},
   "outputs": [],
   "source": [
    "def select_candidates(population, size):\n",
    "    population.sort(key = lambda x: x.error, reverse=False)\n",
    "    return population[0:size]"
   ]
  },
  {
   "cell_type": "code",
   "execution_count": null,
   "metadata": {},
   "outputs": [],
   "source": [
    "def next_generation(population, size, mutation_p, cvimage):\n",
    "    new_population = population\n",
    "    while(len(new_population)<size):\n",
    "        if (random.randint (1,100) > mutation_p):\n",
    "            # do crossover \n",
    "            img1 = random.choice(new_population)\n",
    "            img2 = random.choice(new_population)\n",
    "            new_img = crossover(img1, img2)\n",
    "            new_img.set_error(cvimage)\n",
    "            new_population.append(new_img)\n",
    "        \n",
    "        else:\n",
    "            # do mutation\n",
    "            img = random.choice(new_population)\n",
    "            new_img = mutation(img)\n",
    "            new_img.set_error(cvimage)\n",
    "            new_population.append(new_img)\n",
    "            \n",
    "    return new_population"
   ]
  },
  {
   "cell_type": "code",
   "execution_count": null,
   "metadata": {},
   "outputs": [],
   "source": [
    "def controller():\n",
    "    \n",
    "    img_path = 'test2.png'\n",
    "    orig_img = cv2.imread(img_path, 0)\n",
    "    orig_img = orig_img/255.0\n",
    "    \n",
    "    size_h = orig_img.shape[0]\n",
    "    size_v = orig_img.shape[1]\n",
    "    \n",
    "    population_size = 100\n",
    "    intermidiate_size = 200\n",
    "    zero_p = 10\n",
    "    mutation_p = 10\n",
    "    no_of_generations = 100\n",
    "    \n",
    "    for i in range(no_of_generations):\n",
    "        \n",
    "        population = create_new_population(population_size, size_h, size_v, zero_p, orig_img)\n",
    "        next_gen = next_generation(population, intermidiate_size, mutation_p, orig_img)\n",
    "        population = select_candidates(next_gen, population_size)\n",
    "        "
   ]
  },
  {
   "cell_type": "code",
   "execution_count": 107,
   "metadata": {},
   "outputs": [
    {
     "data": {
      "image/png": "[encoded data removed]",
      "text/plain": [
       "<Figure size 432x288 with 1 Axes>"
      ]
     },
     "metadata": {
      "needs_background": "light"
     },
     "output_type": "display_data"
    }
   ],
   "source": [
    "#img1 = ImageObject(size_h,size_v,0.5)\n",
    "img1.show()"
   ]
  },
  {
   "cell_type": "code",
   "execution_count": 108,
   "metadata": {},
   "outputs": [
    {
     "data": {
      "image/png": "[encoded data removed]",
      "text/plain": [
       "<Figure size 432x288 with 1 Axes>"
      ]
     },
     "metadata": {
      "needs_background": "light"
     },
     "output_type": "display_data"
    }
   ],
   "source": [
    "#img2 = ImageObject(size_h,size_v,0.5)\n",
    "img2.show()"
   ]
  },
  {
   "cell_type": "code",
   "execution_count": 81,
   "metadata": {},
   "outputs": [
    {
     "data": {
      "text/plain": [
       "6"
      ]
     },
     "execution_count": 81,
     "metadata": {},
     "output_type": "execute_result"
    }
   ],
   "source": [
    "sum(sum((img1.img - img2.img)))\n",
    "\n"
   ]
  },
  {
   "cell_type": "code",
   "execution_count": 85,
   "metadata": {},
   "outputs": [
    {
     "data": {
      "text/plain": [
       "<matplotlib.image.AxesImage at 0x7f223d32b0b8>"
      ]
     },
     "execution_count": 85,
     "metadata": {},
     "output_type": "execute_result"
    },
    {
     "data": {
      "image/png": "[encoded data removed]",
      "text/plain": [
       "<Figure size 432x288 with 1 Axes>"
      ]
     },
     "metadata": {
      "needs_background": "light"
     },
     "output_type": "display_data"
    }
   ],
   "source": [
    "plt.imshow(cv2.bitwise_not(cv2.bitwise_xor(img2.img, img1.img, mask = None),None),cmap='Greys_r' )"
   ]
  }
 ],
 "metadata": {
  "kernelspec": {
   "display_name": "Python 3",
   "language": "python",
   "name": "python3"
  },
  "language_info": {
   "codemirror_mode": {
    "name": "ipython",
    "version": 3
   },
   "file_extension": ".py",
   "mimetype": "text/x-python",
   "name": "python",
   "nbconvert_exporter": "python",
   "pygments_lexer": "ipython3",
   "version": "3.6.9"
  }
 },
 "nbformat": 4,
 "nbformat_minor": 4
}
